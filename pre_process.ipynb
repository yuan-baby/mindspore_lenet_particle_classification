{
 "cells": [
  {
   "cell_type": "code",
   "execution_count": null,
   "metadata": {},
   "outputs": [],
   "source": [
    "from skimage import io \n",
    "import matplotlib.pyplot as plt\n",
    "from PIL import Image\n",
    "import numpy as np\n",
    "import os\n",
    "\n",
    "class_dict = {'0':'6hb','1':'rec','2':'stri','3':'tet','4':'tri'}\n",
    "data_path = './particle_data'\n",
    "data = io.imread('data/6hb.tif')"
   ]
  },
  {
   "cell_type": "code",
   "execution_count": 25,
   "metadata": {},
   "outputs": [],
   "source": [
    "\n",
    "i = 0\n",
    "for pic in data:\n",
    "    save_path = data_path + f'/0/{i}.png'\n",
    "    image = Image.fromarray((pic * 255).astype(np.uint8))\n",
    "    image.save(save_path)\n",
    "    i += 1"
   ]
  },
  {
   "cell_type": "code",
   "execution_count": 26,
   "metadata": {},
   "outputs": [],
   "source": [
    "import shutil\n",
    "from pathlib import Path"
   ]
  },
  {
   "cell_type": "code",
   "execution_count": 27,
   "metadata": {},
   "outputs": [],
   "source": [
    "data_path = Path('data')\n",
    "train_path = Path('data\\train')\n",
    "val_path = Path('data\\test')\n",
    "num_classes = 5\n",
    "train_ratio = 0.8\n",
    "for i in range(0, num_classes):\n",
    "    (val_path / str(i)).mkdir(parents=True, exist_ok=True)\n",
    "    (train_path / str(i)).mkdir(parents=True, exist_ok=True)\n",
    "\n",
    "for directory in range(0, num_classes):\n",
    "    source_dir = data_path / str(directory)\n",
    "    num_images = len(list(source_dir.glob('*.png'))) # 可根据需求更新图片格式\n",
    "    train_size = int(num_images * train_ratio)\n",
    "\n",
    "    # 将图片以3:1比例分配到train和val目录下\n",
    "    for index, image_file in enumerate(source_dir.glob('*.*')):\n",
    "        if image_file.suffix.lower() not in ['.png', '.jpg']:  # 可根据需求更新图片格式\n",
    "            continue\n",
    "\n",
    "        if index < train_size:\n",
    "            target_dir = train_path / str(directory)\n",
    "        else:\n",
    "            target_dir = val_path / str(directory)\n",
    "\n",
    "        shutil.copy2(str(image_file), str(target_dir / image_file.name))"
   ]
  }
 ],
 "metadata": {
  "kernelspec": {
   "display_name": "base",
   "language": "python",
   "name": "python3"
  },
  "language_info": {
   "codemirror_mode": {
    "name": "ipython",
    "version": 3
   },
   "file_extension": ".py",
   "mimetype": "text/x-python",
   "name": "python",
   "nbconvert_exporter": "python",
   "pygments_lexer": "ipython3",
   "version": "3.9.12"
  }
 },
 "nbformat": 4,
 "nbformat_minor": 2
}
